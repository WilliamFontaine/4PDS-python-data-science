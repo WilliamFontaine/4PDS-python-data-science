{
 "cells": [
  {
   "cell_type": "code",
   "execution_count": 7,
   "metadata": {},
   "outputs": [],
   "source": [
    "# Imports\n",
    "import pandas as pd\n",
    "import glob\n",
    "\n",
    "from module.cleaner import Cleaner\n"
   ]
  },
  {
   "cell_type": "code",
   "execution_count": 8,
   "metadata": {},
   "outputs": [
    {
     "name": "stdout",
     "output_type": "stream",
     "text": [
      "The autoreload extension is already loaded. To reload it, use:\n",
      "  %reload_ext autoreload\n"
     ]
    }
   ],
   "source": [
    "%load_ext autoreload\n",
    "%autoreload 2"
   ]
  },
  {
   "cell_type": "code",
   "execution_count": 21,
   "metadata": {},
   "outputs": [],
   "source": [
    "# Load the data\n",
    "# files_to_load = glob.glob('../data/match_*.json')\n",
    "files_to_load = glob.glob('../data/match_1059702.json')\n",
    "\n",
    "cleaner = Cleaner()\n",
    "dvf_teams, dvf_players, dvf_matchs = cleaner.initialize(files_to_load)"
   ]
  },
  {
   "cell_type": "code",
   "execution_count": 19,
   "metadata": {},
   "outputs": [],
   "source": [
    "\n",
    "pd.set_option('display.max_rows', None)\n",
    "pd.set_option('display.max_columns', None)"
   ]
  },
  {
   "cell_type": "code",
   "execution_count": 22,
   "metadata": {},
   "outputs": [
    {
     "name": "stdout",
     "output_type": "stream",
     "text": [
      "  idteam       name\n",
      "0     14  Liverpool\n",
      "1     45    Norwich\n"
     ]
    }
   ],
   "source": [
    "print(dvf_teams)"
   ]
  },
  {
   "cell_type": "code",
   "execution_count": 23,
   "metadata": {},
   "outputs": [
    {
     "name": "stdout",
     "output_type": "stream",
     "text": [
      "   idplayer            lastname\n",
      "0     15157              Milner\n",
      "1     41733           Wijnaldum\n",
      "2     56979           Henderson\n",
      "3     60706              Adrián\n",
      "4     60914               Matip\n",
      "5     68312             Shaqiri\n",
      "6     81880  Oxlade-Chamberlain\n",
      "7     92217     Roberto Firmino\n",
      "8     97032            van Dijk\n",
      "9    110979                Mané\n",
      "10   116535             Alisson\n",
      "11   116643             Fabinho\n",
      "12   118748       Mohamed Salah\n",
      "13   122798           Robertson\n",
      "14   152760               Origi\n",
      "15   169187    Alexander-Arnold\n",
      "16   171287               Gomez\n",
      "17   175592               Keita\n",
      "18    20480                Krul\n",
      "19    28082            Fährmann\n",
      "20    37614             Vrancic\n",
      "21    57127               Pukki\n",
      "22    71738         Stiepermann\n",
      "23    78607        Kenny McLean\n",
      "24    81048               Drmic\n",
      "25    83428              Hanley\n",
      "26    87396             Leitner\n",
      "27    89470           Hernández\n",
      "28    90440             Trybull\n",
      "29   113564               Byram\n",
      "30   124165             Roberts\n",
      "31   193111            Cantwell\n",
      "32   194799               Lewis\n",
      "33   195546             Buendía\n",
      "34   198826             Godfrey\n",
      "35   232980          Max Aarons\n"
     ]
    }
   ],
   "source": [
    "print(dvf_players)"
   ]
  },
  {
   "cell_type": "code",
   "execution_count": 25,
   "metadata": {},
   "outputs": [
    {
     "name": "stdout",
     "output_type": "stream",
     "text": [
      "<class 'pandas.core.frame.DataFrame'>\n"
     ]
    }
   ],
   "source": [
    "print(dvf_matchs)"
   ]
  }
 ],
 "metadata": {
  "kernelspec": {
   "display_name": "Python 3",
   "language": "python",
   "name": "python3"
  },
  "language_info": {
   "codemirror_mode": {
    "name": "ipython",
    "version": 3
   },
   "file_extension": ".py",
   "mimetype": "text/x-python",
   "name": "python",
   "nbconvert_exporter": "python",
   "pygments_lexer": "ipython3",
   "version": "3.12.2"
  }
 },
 "nbformat": 4,
 "nbformat_minor": 2
}
