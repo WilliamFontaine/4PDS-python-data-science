{
 "cells": [
  {
   "cell_type": "code",
   "execution_count": 1,
   "metadata": {},
   "outputs": [],
   "source": [
    "# Imports\n",
    "import pandas as pd\n",
    "import glob\n",
    "\n",
    "from module.cleaner import Cleaner\n"
   ]
  },
  {
   "cell_type": "code",
   "execution_count": 23,
   "metadata": {},
   "outputs": [
    {
     "name": "stdout",
     "output_type": "stream",
     "text": [
      "The autoreload extension is already loaded. To reload it, use:\n",
      "  %reload_ext autoreload\n"
     ]
    }
   ],
   "source": [
    "%load_ext autoreload\n",
    "%autoreload 2"
   ]
  },
  {
   "cell_type": "code",
   "execution_count": 24,
   "metadata": {},
   "outputs": [],
   "source": [
    "# Load the data\n",
    "files_to_load = glob.glob('../data/match_*.json')\n",
    "\n",
    "cleaner = Cleaner()\n",
    "dvf_teams = cleaner.initialize(files_to_load)"
   ]
  },
  {
   "cell_type": "code",
   "execution_count": 25,
   "metadata": {},
   "outputs": [
    {
     "name": "stdout",
     "output_type": "stream",
     "text": [
      "    idteam            name\n",
      "0       14       Liverpool\n",
      "1       45         Norwich\n",
      "2       91     Bournemouth\n",
      "3       49       Sheffield\n",
      "4       90         Burnley\n",
      "5       20     Southampton\n",
      "6       31  Crystal Palace\n",
      "7       11         Everton\n",
      "8       13       Leicester\n",
      "9       39   Wolverhampton\n",
      "10       6       Tottenham\n",
      "11       7     Aston Villa\n",
      "12      57         Watford\n",
      "13      36        Brighton\n",
      "14      21        West Ham\n",
      "15      43       Man. City\n",
      "16       1     Man. United\n",
      "17       8         Chelsea\n",
      "18       4       Newcastle\n",
      "19       3         Arsenal\n",
      "20    2130           Dijon\n",
      "21     152   Saint-Étienne\n",
      "22     144       Marseille\n",
      "23    1423           Reims\n",
      "24    1395            Nice\n",
      "25    1430          Amiens\n",
      "26     153      Strasbourg\n",
      "27     145            Metz\n",
      "28     147     Montpellier\n",
      "29     150          Rennes\n",
      "30    2128          Angers\n",
      "31     140        Bordeaux\n",
      "32     429           Lille\n",
      "33     430          Nantes\n",
      "34     149           Paris\n",
      "35    2336           Nîmes\n",
      "36     862           Brest\n",
      "37     427        Toulouse\n",
      "38     146          Monaco\n",
      "39     143            Lyon\n",
      "40     693         Sochaux\n",
      "41    1028            Caen\n",
      "42     920         Le Mans\n",
      "43     142            Lens\n",
      "44    6783         Chambly\n",
      "45    1996    Valenciennes\n",
      "46    3308           Rodez\n",
      "47     138         Auxerre\n",
      "48     428        Guingamp\n",
      "49    1272        Grenoble\n",
      "50    1163         Ajaccio\n",
      "51     141        Le Havre\n",
      "52    1983        Clermont\n",
      "53     921     Châteauroux\n",
      "54     694         Lorient\n",
      "55    2338           Paris\n",
      "56     148           Nancy\n",
      "57    6785         Orléans\n",
      "58    1245           Niort\n",
      "59     154          Troyes\n",
      "60     173          Alavés\n",
      "61     855         Levante\n",
      "62     174          Bilbao\n",
      "63     178       Barcelona\n",
      "64     175        Atlético\n",
      "65    1450          Getafe\n",
      "66     185           Betis\n",
      "67     192      Valladolid\n",
      "68     176           Celta\n",
      "69     186     Real Madrid\n",
      "70     177        Espanyol\n",
      "71     179         Sevilla\n",
      "72     957         Leganés\n",
      "73     450         Osasuna\n",
      "74     181        Mallorca\n",
      "75     953           Eibar\n",
      "76     191        Valencia\n",
      "77     188   Real Sociedad\n",
      "78     449      Villarreal\n",
      "79    5683         Granada\n",
      "80     124        Cagliari\n",
      "81     458         Brescia\n",
      "82     125      Fiorentina\n",
      "83     459          Napoli\n",
      "84     126          Verona\n",
      "85     123         Bologna\n",
      "86     127           Inter\n",
      "87     130           Lecce\n",
      "88     131           Parma\n",
      "89     128        Juventus\n",
      "90     121            Roma\n",
      "91     990           Genoa\n",
      "92     603       Sampdoria\n",
      "93     129           Lazio\n",
      "94    1454            Spal\n",
      "95     456        Atalanta\n",
      "96     135          Torino\n",
      "97    2182        Sassuolo\n",
      "98     136         Udinese\n",
      "99     120           Milan\n",
      "100   3288       Dunkerque\n",
      "101   5420             Pau\n",
      "102     54          Fulham\n",
      "103      2           Leeds\n",
      "104     35   West Bromwich\n",
      "105    954           Elche\n",
      "106   1737           Cadix\n",
      "107   2894          Huesca\n",
      "108   2000       Benevento\n",
      "109    744         Crotone\n",
      "110   2036          Spezia\n"
     ]
    }
   ],
   "source": [
    "\n",
    "pd.set_option('display.max_rows', None)\n",
    "pd.set_option('display.max_columns', None)\n",
    "print(dvf_teams)"
   ]
  }
 ],
 "metadata": {
  "kernelspec": {
   "display_name": "Python 3",
   "language": "python",
   "name": "python3"
  },
  "language_info": {
   "codemirror_mode": {
    "name": "ipython",
    "version": 3
   },
   "file_extension": ".py",
   "mimetype": "text/x-python",
   "name": "python",
   "nbconvert_exporter": "python",
   "pygments_lexer": "ipython3",
   "version": "3.12.2"
  }
 },
 "nbformat": 4,
 "nbformat_minor": 2
}
