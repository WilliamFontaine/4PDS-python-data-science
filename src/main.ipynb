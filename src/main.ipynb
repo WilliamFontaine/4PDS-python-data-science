{
 "cells": [
  {
   "cell_type": "code",
   "execution_count": null,
   "metadata": {},
   "outputs": [],
   "source": [
    "# Imports\n",
    "import glob\n",
    "\n",
    "from module.importer import Importer\n",
    "from module.historic import Historic\n"
   ]
  },
  {
   "cell_type": "code",
   "execution_count": null,
   "metadata": {},
   "outputs": [],
   "source": [
    "%load_ext autoreload\n",
    "%autoreload 2"
   ]
  },
  {
   "cell_type": "code",
   "execution_count": null,
   "metadata": {},
   "outputs": [],
   "source": [
    "# II. Import des données\n",
    "files_to_load = glob.glob('../data/match_*.json')\n",
    "# files_to_load = glob.glob('../data/match_*.json')[:10]\n",
    "\n",
    "importer = Importer()\n",
    "df_teams, df_players, df_matchs, df_higlihts, df_substitutions, df_match_players = importer.initialize(files_to_load)"
   ]
  },
  {
   "cell_type": "code",
   "execution_count": null,
   "metadata": {},
   "outputs": [],
   "source": [
    "# III. Historique des transferts\n",
    "historic = Historic()\n",
    "\n",
    "df_players_historical = historic.compute(df_matchs, df_match_players, df_players, df_teams)\n",
    "\n",
    "df_players_historical\n"
   ]
  }
 ],
 "metadata": {
  "kernelspec": {
   "display_name": "Python 3",
   "language": "python",
   "name": "python3"
  },
  "language_info": {
   "codemirror_mode": {
    "name": "ipython",
    "version": 3
   },
   "file_extension": ".py",
   "mimetype": "text/x-python",
   "name": "python",
   "nbconvert_exporter": "python",
   "pygments_lexer": "ipython3",
   "version": "3.12.2"
  }
 },
 "nbformat": 4,
 "nbformat_minor": 2
}
